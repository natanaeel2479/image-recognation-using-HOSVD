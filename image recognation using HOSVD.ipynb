{
  "nbformat": 4,
  "nbformat_minor": 0,
  "metadata": {
    "colab": {
      "provenance": []
    },
    "kernelspec": {
      "name": "python3",
      "display_name": "Python 3"
    },
    "language_info": {
      "name": "python"
    }
  },
  "cells": [
    {
      "cell_type": "code",
      "source": [
        "import os\n",
        "import imageio\n",
        "from PIL import Image\n",
        "from IPython.display import display\n",
        "\n",
        "import numpy as np\n",
        "import torch\n",
        "import tensorflow as tf\n",
        "\n",
        "import glob\n",
        "from google.colab import drive"
      ],
      "metadata": {
        "id": "L0okPGnnhNNk"
      },
      "execution_count": null,
      "outputs": []
    },
    {
      "cell_type": "code",
      "source": [
        "drive.mount('/content/gdrive')"
      ],
      "metadata": {
        "colab": {
          "base_uri": "https://localhost:8080/"
        },
        "id": "fcnFjm3Nmk4r",
        "outputId": "ebda05aa-d72d-44bd-c98e-866008f39850"
      },
      "execution_count": null,
      "outputs": [
        {
          "output_type": "stream",
          "name": "stdout",
          "text": [
            "Drive already mounted at /content/gdrive; to attempt to forcibly remount, call drive.mount(\"/content/gdrive\", force_remount=True).\n"
          ]
        }
      ]
    },
    {
      "cell_type": "code",
      "source": [
        "def unfold(n,A):\n",
        "  if n==1:\n",
        "    unfolded_matrix = [];\n",
        "    for i in range(A.shape[1]):\n",
        "      unfolded_matrix.append(A[:,i,:])\n",
        "\n",
        "    return np.hstack(unfolded_matrix)\n",
        "\n",
        "  if n==2:\n",
        "    unfolded_matrix = [];\n",
        "    for i in range(A.shape[2]):\n",
        "      unfolded_matrix.append(A[:,:,i].T)\n",
        "\n",
        "    return np.hstack(unfolded_matrix)\n",
        "\n",
        "  if n==3:\n",
        "    unfolded_matrix = [];\n",
        "    for i in range(A.shape[0]):\n",
        "      unfolded_matrix.append(A[i,:,:].T)\n",
        "\n",
        "    return np.hstack(unfolded_matrix)"
      ],
      "metadata": {
        "id": "GWDdeQ1u9CsW"
      },
      "execution_count": null,
      "outputs": []
    },
    {
      "cell_type": "code",
      "source": [
        "def fold1(A, n, d):\n",
        "    m = A.shape[0]\n",
        "    folded_matrix = np.zeros((m,n,d));\n",
        "    for i in range(n):\n",
        "      folded_matrix[:,i,:] = A[:, i*d:(i+1)*d]\n",
        "\n",
        "    return folded_matrix\n",
        "\n",
        "def fold2(A, m, d):\n",
        "    n = A.shape[0]\n",
        "    folded_matrix = np.zeros((m,n,d));\n",
        "    for i in range(d):\n",
        "      folded_matrix[:,:,i] = A[:, i*m:(i+1)*m].T\n",
        "\n",
        "    return folded_matrix\n",
        "\n",
        "def fold3(A, m, n):\n",
        "    d = A.shape[0]\n",
        "    folded_matrix = np.zeros((m,n,d));\n",
        "    for i in range(m):\n",
        "      folded_matrix[i,:,:] = A[:, i*n:(i+1)*n].T\n",
        "\n",
        "    return folded_matrix"
      ],
      "metadata": {
        "id": "FjCXUpOXQRW_"
      },
      "execution_count": null,
      "outputs": []
    },
    {
      "cell_type": "code",
      "source": [
        "def multi1(tensor, A):\n",
        "    unfolded_matrix = unfold(1,tensor)\n",
        "\n",
        "    return A @ unfolded_matrix\n",
        "\n",
        "def multi2(tensor, A):\n",
        "    unfolded_matrix = unfold(2,tensor)\n",
        "\n",
        "    return A @ unfolded_matrix\n",
        "\n",
        "def multi3(tensor, A):\n",
        "    unfolded_matrix = unfold(3,tensor)\n",
        "\n",
        "    return A @ unfolded_matrix"
      ],
      "metadata": {
        "id": "ctRDPnVIeIBR"
      },
      "execution_count": null,
      "outputs": []
    },
    {
      "cell_type": "code",
      "source": [
        "A = torch.zeros(1024, 10, 14)\n",
        "\n",
        "# Loop through each person\n",
        "for person_index in range(14):\n",
        "    train_folder_path = '/content/gdrive/My Drive/train'\n",
        "\n",
        "    image_pattern = f'subject{person_index + 1:02d}.*.gif'\n",
        "    items = glob.glob(os.path.join(train_folder_path, image_pattern))\n",
        "\n",
        "    # Resize images to 32x32 and store in A\n",
        "    c = 0\n",
        "    for each_image in items:\n",
        "        full_path = os.path.join(train_folder_path, each_image)\n",
        "        image = Image.open(full_path).convert('L')  # Open image and convert to grayscale\n",
        "        resized_image = image.resize((32, 32))\n",
        "        image_array = np.array(resized_image, dtype='float64')\n",
        "        A[:, c, person_index] = torch.from_numpy(image_array.ravel()).to(A)\n",
        "        c += 1\n"
      ],
      "metadata": {
        "id": "RfhNnhKZ9eII"
      },
      "execution_count": null,
      "outputs": []
    },
    {
      "cell_type": "code",
      "source": [
        "A"
      ],
      "metadata": {
        "colab": {
          "base_uri": "https://localhost:8080/"
        },
        "id": "HtajRk-uRDy2",
        "outputId": "2eef7f7f-1b72-423f-db26-68502d65930b"
      },
      "execution_count": null,
      "outputs": [
        {
          "output_type": "execute_result",
          "data": {
            "text/plain": [
              "tensor([[[243., 243., 243.,  ..., 243., 243., 243.],\n",
              "         [243., 243., 243.,  ..., 244., 243., 243.],\n",
              "         [243., 157., 243.,  ..., 243., 243., 243.],\n",
              "         ...,\n",
              "         [243., 242., 243.,  ..., 237., 243., 243.],\n",
              "         [243., 242., 243.,  ..., 242., 243., 243.],\n",
              "         [243., 242., 243.,  ..., 237., 243., 243.]],\n",
              "\n",
              "        [[243., 243., 243.,  ..., 243., 243., 243.],\n",
              "         [243., 243., 243.,  ..., 244., 243., 243.],\n",
              "         [243., 158., 243.,  ..., 242., 243., 243.],\n",
              "         ...,\n",
              "         [243., 242., 243.,  ..., 242., 243., 243.],\n",
              "         [243., 242., 243.,  ..., 241., 243., 243.],\n",
              "         [243., 242., 243.,  ..., 242., 243., 243.]],\n",
              "\n",
              "        [[243., 243., 243.,  ..., 243., 243., 243.],\n",
              "         [243., 243., 243.,  ..., 244., 243., 243.],\n",
              "         [243., 160., 243.,  ..., 242., 243., 243.],\n",
              "         ...,\n",
              "         [243., 242., 243.,  ..., 243., 243., 243.],\n",
              "         [243., 242., 243.,  ..., 241., 243., 243.],\n",
              "         [243., 242., 243.,  ..., 243., 243., 243.]],\n",
              "\n",
              "        ...,\n",
              "\n",
              "        [[237.,  64.,  28.,  ...,  54., 204., 237.],\n",
              "         [234., 238., 238.,  ..., 235., 205., 238.],\n",
              "         [234., 234., 238.,  ..., 153., 203., 237.],\n",
              "         ...,\n",
              "         [235., 178., 238.,  ..., 159., 199., 238.],\n",
              "         [235., 177., 238.,  ..., 150., 204., 235.],\n",
              "         [187., 175., 238.,  ..., 159., 237., 238.]],\n",
              "\n",
              "        [[237.,  63.,  28.,  ...,  54., 205., 237.],\n",
              "         [236., 238., 238.,  ..., 238., 207., 238.],\n",
              "         [236., 227., 238.,  ..., 166., 205., 238.],\n",
              "         ...,\n",
              "         [237., 177., 238.,  ..., 148., 201., 238.],\n",
              "         [237., 173., 238.,  ..., 162., 206., 231.],\n",
              "         [184., 170., 238.,  ..., 148., 235., 238.]],\n",
              "\n",
              "        [[237.,  62.,  28.,  ...,  51., 204., 237.],\n",
              "         [236., 238., 238.,  ..., 238., 206., 238.],\n",
              "         [236., 230., 238.,  ..., 165., 204., 238.],\n",
              "         ...,\n",
              "         [237., 178., 238.,  ..., 143., 201., 238.],\n",
              "         [237., 175., 237.,  ..., 161., 206., 226.],\n",
              "         [181., 171., 238.,  ..., 143., 233., 238.]]])"
            ]
          },
          "metadata": {},
          "execution_count": 74
        }
      ]
    },
    {
      "cell_type": "code",
      "source": [
        "test_folder_path = '/content/gdrive/My Drive/test'\n",
        "\n",
        "Test = []\n",
        "\n",
        "for i in range(1, 15):\n",
        "    image_name = f\"subject{i:02d}.exist.gif\"\n",
        "    image_path = os.path.join(test_folder_path, image_name)\n",
        "\n",
        "    image = np.array(Image.open(image_path).convert('L').resize((32, 32)), dtype='float64')\n",
        "    Test.append(image.ravel())\n",
        "\n",
        "for i in range(1, 12):\n",
        "    image_name = f\"subject15.{i}.not_exist.gif\"\n",
        "    image_path = os.path.join(test_folder_path, image_name)\n",
        "\n",
        "    image = np.array(Image.open(image_path).convert('L').resize((32, 32)), dtype='float64')\n",
        "    Test.append(image.ravel())\n",
        "\n",
        "Test = np.vstack(Test)\n",
        "\n",
        "\n",
        "print(\"Test Shape:\", Test.shape)\n"
      ],
      "metadata": {
        "colab": {
          "base_uri": "https://localhost:8080/"
        },
        "id": "Ch_XzdT6vNCe",
        "outputId": "5e4d3342-7b94-4f6a-f28d-638635f8b134"
      },
      "execution_count": null,
      "outputs": [
        {
          "output_type": "stream",
          "name": "stdout",
          "text": [
            "Test Shape: (25, 1024)\n"
          ]
        }
      ]
    },
    {
      "cell_type": "code",
      "source": [
        "unfold1A = unfold(1,A)\n",
        "U1, Sigma, Vt = np.linalg.svd(unfold1A)\n",
        "F = U1[:,:10 * 14]\n",
        "\n",
        "unfold2A = unfold(2,A)\n",
        "U2, Sigma, Vt = np.linalg.svd(unfold2A)\n",
        "G = U2\n",
        "\n",
        "unfold3A = unfold(3,A)\n",
        "U3, Sigma, Vt = np.linalg.svd(unfold3A)\n",
        "H = U3\n",
        "\n",
        "print(\"F Shape:\", F.shape)\n",
        "print(\"G Shape:\", G.shape)\n",
        "print(\"H Shape:\", H.shape)"
      ],
      "metadata": {
        "colab": {
          "base_uri": "https://localhost:8080/"
        },
        "id": "PRRBTcXBTpyX",
        "outputId": "2e784b4a-ef06-40d3-c101-90c6db72791a"
      },
      "execution_count": null,
      "outputs": [
        {
          "output_type": "stream",
          "name": "stdout",
          "text": [
            "F Shape: (1024, 140)\n",
            "G Shape: (10, 10)\n",
            "H Shape: (14, 14)\n"
          ]
        }
      ]
    },
    {
      "cell_type": "code",
      "source": [
        "AF = multi1(A, F.T)\n",
        "AF = fold1(AF, 10, 14)\n",
        "print(\"AxF Shape:\", AF.shape)\n",
        "\n",
        "\n",
        "AFG =  multi2(AF, G.T)\n",
        "AFG = fold2(AFG, 10 * 14, 14)\n",
        "print(\"AxFxG Shape:\", AFG.shape)\n",
        "\n",
        "S =  multi3(AFG, H.T)\n",
        "S = fold3(S, 10 * 14, 10)\n",
        "print(\"S Shape:\", S.shape)"
      ],
      "metadata": {
        "colab": {
          "base_uri": "https://localhost:8080/"
        },
        "id": "trKNVSPcUzl1",
        "outputId": "70f283f6-0f03-4108-e082-9d350a03e2b7"
      },
      "execution_count": null,
      "outputs": [
        {
          "output_type": "stream",
          "name": "stdout",
          "text": [
            "AxF Shape: (140, 10, 14)\n",
            "AxFxG Shape: (140, 10, 14)\n",
            "S Shape: (140, 10, 14)\n"
          ]
        }
      ]
    },
    {
      "cell_type": "code",
      "source": [
        "B = multi2(S,G)\n",
        "B = fold2(B, 10 * 14, 14)\n",
        "B.shape"
      ],
      "metadata": {
        "colab": {
          "base_uri": "https://localhost:8080/"
        },
        "id": "YrgkOkEWgqFl",
        "outputId": "f3baac9d-1057-432d-ffdb-c471f7a1e750"
      },
      "execution_count": null,
      "outputs": [
        {
          "output_type": "execute_result",
          "data": {
            "text/plain": [
              "(140, 10, 14)"
            ]
          },
          "metadata": {},
          "execution_count": 80
        }
      ]
    },
    {
      "cell_type": "code",
      "source": [
        "results = []\n",
        "\n",
        "for test_image in Test:\n",
        "    Z = F.T @ test_image\n",
        "\n",
        "    found_match = False\n",
        "    for e in range(10):\n",
        "        Be = B[:, e, :]\n",
        "        Q, R = np.linalg.qr(Be)\n",
        "        a = np.linalg.solve(R , Q.T @ Z)\n",
        "        for i in range(14):\n",
        "            if np.linalg.norm(a - H[i]) < 0.5:\n",
        "                results.append(i)\n",
        "                found_match = True\n",
        "                break\n",
        "\n",
        "        if found_match:\n",
        "            break\n",
        "\n",
        "    if not found_match:\n",
        "        results.append((None))\n",
        "\n",
        "updated_results = [result + 1 if result is not None else 15 for result in results]\n",
        "\n",
        "for i, result in enumerate(updated_results):\n",
        "    if result != 15:\n",
        "        print(f\"Test image {i+1} matches training image {result}\")\n",
        "    else:\n",
        "        print(f\"Test image {i+1} does not match any training image\")\n",
        "\n"
      ],
      "metadata": {
        "colab": {
          "base_uri": "https://localhost:8080/"
        },
        "id": "rjXc5BqCXlac",
        "outputId": "fc687d99-bd05-4f6a-d10b-bd9ab740c5cb"
      },
      "execution_count": null,
      "outputs": [
        {
          "output_type": "stream",
          "name": "stdout",
          "text": [
            "Test image 1 matches training image 1\n",
            "Test image 2 matches training image 2\n",
            "Test image 3 matches training image 3\n",
            "Test image 4 matches training image 4\n",
            "Test image 5 matches training image 5\n",
            "Test image 6 matches training image 6\n",
            "Test image 7 matches training image 7\n",
            "Test image 8 matches training image 8\n",
            "Test image 9 does not match any training image\n",
            "Test image 10 matches training image 3\n",
            "Test image 11 matches training image 11\n",
            "Test image 12 matches training image 5\n",
            "Test image 13 matches training image 13\n",
            "Test image 14 matches training image 14\n",
            "Test image 15 does not match any training image\n",
            "Test image 16 matches training image 10\n",
            "Test image 17 does not match any training image\n",
            "Test image 18 does not match any training image\n",
            "Test image 19 does not match any training image\n",
            "Test image 20 does not match any training image\n",
            "Test image 21 does not match any training image\n",
            "Test image 22 does not match any training image\n",
            "Test image 23 does not match any training image\n",
            "Test image 24 does not match any training image\n",
            "Test image 25 does not match any training image\n"
          ]
        }
      ]
    },
    {
      "cell_type": "code",
      "source": [
        "print(updated_results)"
      ],
      "metadata": {
        "colab": {
          "base_uri": "https://localhost:8080/"
        },
        "id": "zVPYQd4LACkc",
        "outputId": "6d66560f-6888-487c-8dad-c29926eceae8"
      },
      "execution_count": null,
      "outputs": [
        {
          "output_type": "stream",
          "name": "stdout",
          "text": [
            "[1, 2, 3, 4, 5, 6, 7, 8, 15, 3, 11, 5, 13, 14, 15, 10, 15, 15, 15, 15, 15, 15, 15, 15, 15]\n"
          ]
        }
      ]
    },
    {
      "cell_type": "code",
      "source": [
        "y_true=[1,2,3,4,5,6,7,8,9,10,11,12,13,14,15,15,15,15,15,15,15,15,15,15,15]"
      ],
      "metadata": {
        "id": "cEglKxbc_309"
      },
      "execution_count": null,
      "outputs": []
    },
    {
      "cell_type": "code",
      "source": [
        "from sklearn.metrics import accuracy_score\n",
        "accuracy_score(y_true, updated_results)"
      ],
      "metadata": {
        "colab": {
          "base_uri": "https://localhost:8080/"
        },
        "id": "CQMQG4TC_4tv",
        "outputId": "08b116cd-03f5-4789-cd58-1f81499744c9"
      },
      "execution_count": null,
      "outputs": [
        {
          "output_type": "execute_result",
          "data": {
            "text/plain": [
              "0.84"
            ]
          },
          "metadata": {},
          "execution_count": 100
        }
      ]
    }
  ]
}